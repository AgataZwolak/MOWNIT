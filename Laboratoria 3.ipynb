{
 "cells": [
  {
   "cell_type": "markdown",
   "metadata": {},
   "source": [
    "Zadanie 1:"
   ]
  },
  {
   "cell_type": "code",
   "execution_count": 7,
   "metadata": {},
   "outputs": [
    {
     "name": "stdout",
     "output_type": "stream",
     "text": [
      "[[ 9. 12. 15.]\n",
      " [19. 26. 33.]\n",
      " [24. 33. 42.]\n",
      " [ 9. 15. 21.]]\n"
     ]
    }
   ],
   "source": [
    "def agh_superfast_matrix_multiply(a: np.matrix, b: np.matrix) -> np.matrix:\n",
    "\n",
    "    n = a.shape[0]\n",
    "    m = a.shape[1]\n",
    "    p = b.shape[1]\n",
    "    c = np.zeros((n,p))\n",
    "    \n",
    "    for i in range(0,n):\n",
    "        for j in range(0,p):\n",
    "            for k in range(0,m):\n",
    "                c[i,j] += a[i,k] * b[k,j]\n",
    "    return c\n",
    "\n",
    "m1 = np.matrix([[1, 2],\n",
    "                [3, 4],\n",
    "                [4, 5],\n",
    "                [5, 1]])\n",
    "\n",
    "m2 = np.matrix([[1, 2, 3],\n",
    "                [4, 5, 6]])\n",
    "\n",
    "\n",
    "res = agh_superfast_matrix_multiply(m1, m2)\n",
    "print(res)\n",
    "assert np.allclose(res, m1 * m2), \"Wrong multiplication result\""
   ]
  },
  {
   "cell_type": "markdown",
   "metadata": {},
   "source": [
    "Zadanie 2:"
   ]
  },
  {
   "cell_type": "code",
   "execution_count": 8,
   "metadata": {},
   "outputs": [
    {
     "data": {
      "text/plain": [
       "(True, True)"
      ]
     },
     "execution_count": 8,
     "metadata": {},
     "output_type": "execute_result"
    }
   ],
   "source": [
    "#eliminacja Gausa bez pivotingu\n",
    "\n",
    "def non_pivot_gauss(A, b):\n",
    "    n = len(A)\n",
    "    A = np.copy(A)\n",
    "    b = np.copy(b)\n",
    "    \n",
    "    for i in range(n):\n",
    "        for j in range(n):\n",
    "            if i != j:\n",
    "                scale = A[j, i]/A[i, i]\n",
    "                A[j] -= A[i]*scale\n",
    "                b[j] -= b[i]*scale\n",
    "\n",
    "    for i in range(n):\n",
    "        b[i] /= A[i, i]\n",
    "        \n",
    "    return b\n",
    "\n",
    "\n",
    "#eliminacja Gaussa z pivotingiem\n",
    "\n",
    "def pivot_gauss(A, b):\n",
    "    n = len(A)\n",
    "    A = np.copy(A)\n",
    "    b = np.copy(b)\n",
    "    \n",
    "    for i in range(n-1):\n",
    "        maxidx = abs(A[i:,i]).argmax() + i\n",
    "        if maxidx != i:\n",
    "            A[[i,maxidx]] = A[[maxidx, i]]\n",
    "            b[[i,maxidx]] = b[[maxidx, i]]\n",
    "            \n",
    "        for row in range(i+1, n):\n",
    "            scale = A[row,i]/A[i,i]\n",
    "            A[row, i:] = A[row, i:] - scale*A[i, i:]\n",
    "            b[row] = b[row] - scale*b[i]\n",
    "\n",
    "    for i in range(n-1, -1, -1):\n",
    "        b[i] = (b[i] - np.dot(A[i,i+1:], b[i+1:])) / A[i,i]\n",
    "        \n",
    "    return b\n",
    "\n",
    "\n",
    "#rozwiązanie układu rówań powyższymi metodami i porównanie wyników\n",
    "\n",
    "import numpy as np\n",
    "\n",
    "A = np.matrix([[0.0001, -5.0300, 5.8090, 7.8320],\n",
    "               [2.2660, 1.9950,  1.2120, 8.0080],\n",
    "               [8.8500, 5.6810,  4.5520, 1.3020],\n",
    "               [6.7750, -2.253,  2.9080, 3.9700]])\n",
    "\n",
    "b = np.matrix([9.5740, 7.2190, 5.7300, 6.2910]).transpose()\n",
    "\n",
    "x = np.linalg.solve(A, b)\n",
    "y = non_pivot_gauss(A, b)\n",
    "z = pivot_gauss(A, b)\n",
    "\n",
    "np.allclose(x, y), np.allclose(x, z)"
   ]
  },
  {
   "cell_type": "markdown",
   "metadata": {},
   "source": [
    "Zadanie 3:"
   ]
  },
  {
   "cell_type": "code",
   "execution_count": 13,
   "metadata": {},
   "outputs": [],
   "source": [
    "#algorytm faktoryzacji LU macierzy\n",
    "\n",
    "from typing import Optional, Tuple\n",
    "\n",
    "def agh_superfast_lu(a: np.matrix) -> Optional[Tuple[np.matrix, np.matrix]]:\n",
    "    n = a.shape[0]\n",
    "    l = np.zeros((n,n))\n",
    "    u = np.zeros((n,n))\n",
    "    \n",
    "    for k in range(0,n):\n",
    "        l[k,k] = 1\n",
    "        for j in range(k,n):\n",
    "            sum = 0\n",
    "            for s in range(0,k):\n",
    "                sum += l[k,s] * u[s,j]\n",
    "            u[k,j] = a[k,j] - sum\n",
    "        for i in range(k+1,n):\n",
    "            sum = 0\n",
    "            for s in range(0,k):\n",
    "                sum += l[i,s] * u[s,k]\n",
    "            l[i,k] = (a[i,k] - sum) / u[k,k]\n",
    "    return (l, u)"
   ]
  },
  {
   "cell_type": "markdown",
   "metadata": {},
   "source": [
    "Zadanie 4: "
   ]
  },
  {
   "cell_type": "code",
   "execution_count": 14,
   "metadata": {},
   "outputs": [],
   "source": [
    "#sprawdzanie czy macierz jest symetryczna i dodatnio określona\n",
    "\n",
    "def agh_superfast_check_spd(a: np.matrix) -> bool:\n",
    "    l = agh_superfast_cholesky(a)\n",
    "    llt = agh_superfast_matrix_multiply(l, l.transpose())\n",
    "    return np.allclose(llt, a)"
   ]
  },
  {
   "cell_type": "markdown",
   "metadata": {},
   "source": [
    "Zadanie 5:"
   ]
  },
  {
   "cell_type": "code",
   "execution_count": 15,
   "metadata": {},
   "outputs": [],
   "source": [
    "#algorytm faktoryzacji Cholesky'ego macierzy\n",
    "\n",
    "def agh_superfast_cholesky(a: np.matrix) -> Optional[np.matrix]:\n",
    "    n = a.shape[0]\n",
    "    l = np.zeros((n,n))\n",
    "    \n",
    "    for k in range(0,n):\n",
    "        sum = 0\n",
    "        for s in range(0,k):\n",
    "            sum += l[k,s] * l[k,s]\n",
    "        l[k,k] = pow(a[k,k] - sum, 1/2)\n",
    "        for i in range(k+1,n):\n",
    "            sum = 0\n",
    "            for s in range(0,k):\n",
    "                sum += l[i,s] * l[k,s]\n",
    "            l[i,k] = (a[i,k] - sum) / l[k,k]\n",
    "    return l"
   ]
  }
 ],
 "metadata": {
  "kernelspec": {
   "display_name": "Python 3",
   "language": "python",
   "name": "python3"
  },
  "language_info": {
   "codemirror_mode": {
    "name": "ipython",
    "version": 3
   },
   "file_extension": ".py",
   "mimetype": "text/x-python",
   "name": "python",
   "nbconvert_exporter": "python",
   "pygments_lexer": "ipython3",
   "version": "3.6.5"
  }
 },
 "nbformat": 4,
 "nbformat_minor": 2
}
