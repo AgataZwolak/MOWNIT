{
 "cells": [
  {
   "cell_type": "markdown",
   "metadata": {},
   "source": [
    "Zadanie 1: "
   ]
  },
  {
   "cell_type": "code",
   "execution_count": 1,
   "metadata": {
    "scrolled": true
   },
   "outputs": [
    {
     "name": "stdout",
     "output_type": "stream",
     "text": [
      "0.33333334\n",
      "0.3333333333333333\n",
      "0.3333333432674408\n"
     ]
    }
   ],
   "source": [
    "import numpy as np\n",
    "\n",
    "print(np.float32(1/3))\n",
    "print(np.float64(1/3))\n",
    "print(np.float64(np.float32(1/3)))"
   ]
  },
  {
   "cell_type": "markdown",
   "metadata": {},
   "source": [
    "Zadanie 2:"
   ]
  },
  {
   "cell_type": "code",
   "execution_count": 4,
   "metadata": {},
   "outputs": [
    {
     "data": {
      "image/png": "[encoded data removed]",
      "text/plain": [
       "<Figure size 432x288 with 1 Axes>"
      ]
     },
     "metadata": {},
     "output_type": "display_data"
    }
   ],
   "source": [
    "import numpy as np\n",
    "import matplotlib.pyplot as plt\n",
    "\n",
    "x = np.linspace(1, 1000, 1000)\n",
    "y = (lambda a: np.nextafter(a, a+1) - a)(x)\n",
    "\n",
    "plt.plot(x, y, ',')\n",
    "plt.show()"
   ]
  },
  {
   "cell_type": "markdown",
   "metadata": {},
   "source": [
    "Zadanie 3:"
   ]
  },
  {
   "cell_type": "code",
   "execution_count": 5,
   "metadata": {},
   "outputs": [],
   "source": [
    "import struct\n",
    "\n",
    "def float_to_binary32(num):\n",
    "    return format(struct.unpack('!I', struct.pack('!f',num))[0], '032b')"
   ]
  },
  {
   "cell_type": "code",
   "execution_count": 6,
   "metadata": {},
   "outputs": [
    {
     "name": "stdout",
     "output_type": "stream",
     "text": [
      "00000000100000000000000000000000\n",
      "00000000010000000000000000000000\n"
     ]
    }
   ],
   "source": [
    "print(float_to_binary32(2**(-126)))\n",
    "print(float_to_binary32(2**(-127)))"
   ]
  },
  {
   "cell_type": "markdown",
   "metadata": {},
   "source": [
    "Mantysa przestaje być znormalizowana dla bardzo małych liczb. Wtedy wszystkie bity cechy są równe zero i istnieje bit mantysy różny od zera. Dzięki temu możliwe jest przedstawienie liczb za pomocą mantysy znormalizowanej do liczby 2^-126. Więc dla mniejszej liczby (jak w powyższym przykładzie 2^-127) wszystkie bity cechy są równe zero i zaczynają się operacje na liczbach zdenormalizowanych."
   ]
  }
 ],
 "metadata": {
  "kernelspec": {
   "display_name": "Python 3",
   "language": "python",
   "name": "python3"
  },
  "language_info": {
   "codemirror_mode": {
    "name": "ipython",
    "version": 3
   },
   "file_extension": ".py",
   "mimetype": "text/x-python",
   "name": "python",
   "nbconvert_exporter": "python",
   "pygments_lexer": "ipython3",
   "version": "3.6.5"
  }
 },
 "nbformat": 4,
 "nbformat_minor": 2
}
