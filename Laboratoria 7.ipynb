{
 "cells": [
  {
   "cell_type": "markdown",
   "metadata": {},
   "source": [
    "Zadanie 1:"
   ]
  },
  {
   "cell_type": "code",
   "execution_count": 33,
   "metadata": {},
   "outputs": [],
   "source": [
    "import numpy as np\n",
    "\n",
    "def jacobi_solve(A: np.matrix, b: np.matrix, ite = 500) -> np.matrix:\n",
    "    n = A.shape[0]\n",
    "    x = np.zeros(n)\n",
    "    k = 0\n",
    "    while k < ite:\n",
    "        x1 = np.zeros(n)\n",
    "        for i in range(n):\n",
    "            sum = 0\n",
    "            for j in range(n):\n",
    "                if j != i:\n",
    "                    sum = sum + A[i,j] * x[j]\n",
    "            x1[i] = (1 / A[i,i]) * (b[i] - sum)\n",
    "        x = x1\n",
    "        k = k + 1\n",
    "    return x"
   ]
  },
  {
   "cell_type": "code",
   "execution_count": 34,
   "metadata": {},
   "outputs": [
    {
     "name": "stdout",
     "output_type": "stream",
     "text": [
      "[-5.19389118e+145 -1.15955182e+146 -8.76934907e+145]\n",
      "[ 6.96156056  2.22112253 -1.15414086  2.07202605]\n"
     ]
    }
   ],
   "source": [
    "#przykładowe układy równań\n",
    "import numpy as np\n",
    "\n",
    "A1 = np.matrix([[2, 1, 1],\n",
    "               [2, 2, 4],\n",
    "               [1, 4, 3]])\n",
    "\n",
    "b1 = np.matrix([1, 3, 8]).transpose()\n",
    "\n",
    "A2 = np.matrix([[4, -1, -0.2, 2],\n",
    "               [-1, 5, 0, -2],\n",
    "               [0.2, 1, 10, -1],\n",
    "               [0, -2, -1, 4]])\n",
    "\n",
    "b2 = np.matrix([30, 0, -10, 5]).transpose()\n",
    "\n",
    "res1 = jacobi_solve(A1, b1)\n",
    "res2 = jacobi_solve(A2, b2)\n",
    "print(res1)\n",
    "print(res2)"
   ]
  },
  {
   "cell_type": "markdown",
   "metadata": {},
   "source": [
    "Zadanie 2:"
   ]
  },
  {
   "cell_type": "code",
   "execution_count": 35,
   "metadata": {},
   "outputs": [],
   "source": [
    "import numpy as np\n",
    "def gauss_seidel_solve(A: np.matrix, b: np.matrix, ite = 500) -> np.matrix:\n",
    "    n = A.shape[0]\n",
    "    x = np.zeros(n)\n",
    "    k = 0\n",
    "    while k < ite:\n",
    "        x1 = np.zeros(n)\n",
    "        for i in range(n):\n",
    "            sum = 0\n",
    "            for j in range(n):\n",
    "                if j != i:\n",
    "                    sum = sum + A[i,j] * x[j]\n",
    "            x1[i] = (1 / A[i,i]) * (b[i] - sum)\n",
    "        x = x1\n",
    "        k = k + 1\n",
    "    return x"
   ]
  },
  {
   "cell_type": "code",
   "execution_count": 36,
   "metadata": {},
   "outputs": [
    {
     "name": "stdout",
     "output_type": "stream",
     "text": [
      "[-5.19389118e+145 -1.15955182e+146 -8.76934907e+145]\n",
      "[ 6.96156056  2.22112253 -1.15414086  2.07202605]\n"
     ]
    }
   ],
   "source": [
    "#przykładowe układy równań\n",
    "import numpy as np\n",
    "\n",
    "A1 = np.matrix([[2, 1, 1],\n",
    "               [2, 2, 4],\n",
    "               [1, 4, 3]])\n",
    "\n",
    "b1 = np.matrix([1, 3, 8]).transpose()\n",
    "\n",
    "A2 = np.matrix([[4, -1, -0.2, 2],\n",
    "               [-1, 5, 0, -2],\n",
    "               [0.2, 1, 10, -1],\n",
    "               [0, -2, -1, 4]])\n",
    "\n",
    "b2 = np.matrix([30, 0, -10, 5]).transpose()\n",
    "\n",
    "res1 = gauss_seidel_solve(A1, b1)\n",
    "res2 = gauss_seidel_solve(A2, b2)\n",
    "print(res1)\n",
    "print(res2)"
   ]
  },
  {
   "cell_type": "markdown",
   "metadata": {},
   "source": [
    "Zadanie 3:"
   ]
  },
  {
   "cell_type": "code",
   "execution_count": 37,
   "metadata": {},
   "outputs": [],
   "source": [
    "def sor_solve(A: np.matrix, b: np.matrix, ite = 500) -> np.matrix:\n",
    "    n = A.shape[0]\n",
    "    x = np.zeros(n)\n",
    "    omega = 1.44\n",
    "    k = 0\n",
    "    while k < ite:\n",
    "        x1 = np.zeros(n)\n",
    "        for i in range(n):\n",
    "            sumL = 0\n",
    "            sumU = 0\n",
    "            for j in range(0, i):\n",
    "                sumL = sumL + A[i,j] * x1[j]\n",
    "            for j in range(i+1, n):\n",
    "                sumU = sumU + A[i,j] * x[j]\n",
    "            x1[i] = (1 - omega) * x[i] + (omega / A[i,i]) * (b[i] - sumL - sumU)\n",
    "        x = x1\n",
    "        k = k + 1\n",
    "    return x"
   ]
  },
  {
   "cell_type": "code",
   "execution_count": 38,
   "metadata": {},
   "outputs": [
    {
     "name": "stdout",
     "output_type": "stream",
     "text": [
      "[-2.85560442e+297 -2.22985234e+298  3.97708953e+298]\n",
      "[ 6.96156056  2.22112253 -1.15414086  2.07202605]\n"
     ]
    }
   ],
   "source": [
    "#przykładowe układy równań\n",
    "import numpy as np\n",
    "\n",
    "A1 = np.matrix([[2, 1, 1],\n",
    "               [2, 2, 4],\n",
    "               [1, 4, 3]])\n",
    "\n",
    "b1 = np.matrix([1, 3, 8]).transpose()\n",
    "\n",
    "A2 = np.matrix([[4, -1, -0.2, 2],\n",
    "               [-1, 5, 0, -2],\n",
    "               [0.2, 1, 10, -1],\n",
    "               [0, -2, -1, 4]])\n",
    "\n",
    "b2 = np.matrix([30, 0, -10, 5]).transpose()\n",
    "\n",
    "res1 = sor_solve(A1, b1)\n",
    "res2 = sor_solve(A2, b2)\n",
    "print(res1)\n",
    "print(res2)"
   ]
  },
  {
   "cell_type": "markdown",
   "metadata": {},
   "source": [
    "Zadanie 4:"
   ]
  },
  {
   "cell_type": "code",
   "execution_count": 39,
   "metadata": {},
   "outputs": [
    {
     "name": "stdout",
     "output_type": "stream",
     "text": [
      "the best result 20 iterations\n",
      "the best result 22 iterations\n",
      "the best result 22 iterations\n"
     ]
    }
   ],
   "source": [
    "def check(A, b, solve):\n",
    "    xt = np.linalg.solve(A2, b2)\n",
    "    for i in range(1,25):\n",
    "        x = solve(A2, b2, i)\n",
    "        if(np.allclose(xt.transpose(), x) == True):\n",
    "            print(\"the best result\", i, \"iterations\")\n",
    "            break\n",
    "            \n",
    "A2 = np.matrix([[4, -1, -0.2, 2],\n",
    "               [-1, 5, 0, -2],\n",
    "               [0.2, 1, 10, -1],\n",
    "               [0, -2, -1, 4]])\n",
    "\n",
    "b2 = np.matrix([30, 0, -10, 5]).transpose()\n",
    "\n",
    "check(A2, b2, sor_solve)\n",
    "check(A2, b2, gauss_seidel_solve)\n",
    "check(A2, b2, jacobi_solve)"
   ]
  }
 ],
 "metadata": {
  "kernelspec": {
   "display_name": "Python 3",
   "language": "python",
   "name": "python3"
  },
  "language_info": {
   "codemirror_mode": {
    "name": "ipython",
    "version": 3
   },
   "file_extension": ".py",
   "mimetype": "text/x-python",
   "name": "python",
   "nbconvert_exporter": "python",
   "pygments_lexer": "ipython3",
   "version": "3.6.5"
  }
 },
 "nbformat": 4,
 "nbformat_minor": 2
}
