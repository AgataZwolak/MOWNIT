{
 "cells": [
  {
   "cell_type": "markdown",
   "metadata": {},
   "source": [
    "Zadanie 1:"
   ]
  },
  {
   "cell_type": "code",
   "execution_count": 1,
   "metadata": {},
   "outputs": [
    {
     "data": {
      "text/plain": [
       "0.6699999999999999"
      ]
     },
     "execution_count": 1,
     "metadata": {},
     "output_type": "execute_result"
    }
   ],
   "source": [
    "from typing import List\n",
    "import numpy as np\n",
    "\n",
    "def rmse(x: List[float], y: List[float]) -> float:\n",
    "    result = 0\n",
    "    for (ai, bi) in zip(a, b):\n",
    "        result += (ai - bi) ** 2\n",
    "        \n",
    "    return result\n",
    "\n",
    "\n",
    "a = np.array([0.5, 0.7, 0.9])\n",
    "b = np.array([0.8, 0.4, 0.2])\n",
    "\n",
    "rmse(a, b)"
   ]
  },
  {
   "cell_type": "markdown",
   "metadata": {},
   "source": [
    "Zadanie 2:"
   ]
  },
  {
   "cell_type": "code",
   "execution_count": 2,
   "metadata": {},
   "outputs": [
    {
     "data": {
      "text/plain": [
       "(-1.5000000000000075, 1.5166666666666722)"
      ]
     },
     "execution_count": 2,
     "metadata": {},
     "output_type": "execute_result"
    }
   ],
   "source": [
    "def lin_reg(xi, yi):\n",
    "    average_x = np.mean(xi)\n",
    "    average_y = np.mean(yi)\n",
    "    dev_xy = np.sum(xi*yi - average_x * average_y)\n",
    "    dev_xx = np.sum(xi*xi - average_x * average_x)\n",
    "    \n",
    "    a = dev_xy/dev_xx\n",
    "    b = average_y - a*average_x\n",
    "\n",
    "    return a, b\n",
    "\n",
    "a = np.array([0.5, 0.7, 0.9])\n",
    "b = np.array([0.8, 0.4, 0.2])\n",
    "\n",
    "lin_reg(a, b)"
   ]
  },
  {
   "cell_type": "markdown",
   "metadata": {},
   "source": [
    "Zadanie 3:"
   ]
  },
  {
   "cell_type": "code",
   "execution_count": 3,
   "metadata": {},
   "outputs": [],
   "source": [
    "class LinearRegressor():\n",
    "    def __init__(self):\n",
    "        self._coeffs = None   # type: Optional[Tuple[float, float]]\n",
    "    \n",
    "    def fit(self, x: List[float], y: List[float]) -> None:\n",
    "        average_x = np.mean(xi)\n",
    "        average_y = np.mean(yi)\n",
    "        dev_xy = np.sum(xi*yi - average_x * average_y)\n",
    "        dev_xx = np.sum(xi*xi - average_x * average_x)\n",
    "    \n",
    "        a = dev_xy/dev_xx\n",
    "        b = average_y - a*average_x\n",
    "            \n",
    "        self._coeffs = (a, b) \n",
    "\n",
    "    def predict(self, x: List[float]) -> List[float]:\n",
    "        a, b = self._coeffs\n",
    "        return [a*i+b for i in x]\n",
    "\n",
    "    @property\n",
    "    def coeffs(self):\n",
    "        if self._coeffs is None:\n",
    "            raise Exception('You need to call `fit` on the model first.')\n",
    "        \n",
    "        return self._coeffs"
   ]
  },
  {
   "cell_type": "markdown",
   "metadata": {},
   "source": [
    "Zadanie 4:"
   ]
  },
  {
   "cell_type": "code",
   "execution_count": 4,
   "metadata": {},
   "outputs": [
    {
     "name": "stdout",
     "output_type": "stream",
     "text": [
      "el.:  1 prediction:  23.40830931918123\n",
      "el.:  4 prediction:  33.64977999938032\n",
      "el.:  7 prediction:  43.891250679579414\n",
      "el.:  10 prediction:  54.13272135977851\n",
      "el.:  13 prediction:  64.3741920399776\n",
      "el.:  16 prediction:  74.61566272017669\n",
      "el.:  19 prediction:  84.85713340037579\n",
      "el.:  22 prediction:  95.09860408057487\n",
      "el.:  25 prediction:  105.34007476077397\n",
      "el.:  28 prediction:  115.58154544097306\n",
      "el.:  31 prediction:  125.82301612117216\n",
      "el.:  34 prediction:  136.06448680137123\n",
      "el.:  37 prediction:  146.30595748157035\n",
      "el.:  40 prediction:  156.54742816176943\n",
      "el.:  43 prediction:  166.78889884196852\n",
      "el.:  46 prediction:  177.03036952216763\n",
      "el.:  49 prediction:  187.27184020236672\n",
      "el.:  52 prediction:  197.5133108825658\n",
      "el.:  55 prediction:  207.7547815627649\n",
      "el.:  58 prediction:  217.996252242964\n"
     ]
    }
   ],
   "source": [
    "data = np.loadtxt('lab4_zad4.txt').transpose()\n",
    "xi = data[0]\n",
    "yi = data[1]\n",
    "\n",
    "LR = LinearRegressor()\n",
    "LR.fit(xi, yi)\n",
    "\n",
    "random_data = list(range(1, 60, 3))\n",
    "predict = LR.predict(random_data)\n",
    "for i, p in zip(random_data, predict):\n",
    "    print('el.: ', i, 'prediction: ', p)"
   ]
  },
  {
   "cell_type": "markdown",
   "metadata": {},
   "source": [
    "Zadanie 5:"
   ]
  },
  {
   "cell_type": "code",
   "execution_count": 6,
   "metadata": {},
   "outputs": [
    {
     "data": {
      "image/png": "[encoded data removed]",
      "text/plain": [
       "<Figure size 432x288 with 1 Axes>"
      ]
     },
     "metadata": {},
     "output_type": "display_data"
    }
   ],
   "source": [
    "import matplotlib.pyplot as plt\n",
    "\n",
    "def plot_data(xi, yi):\n",
    "    LR = LinearRegressor()\n",
    "    LR.fit(xi, yi)\n",
    "    def f(x):\n",
    "        a, b = LR.coeffs\n",
    "        return a * x + b\n",
    "    ls = np.linspace(min(xi), max(xi), 100)\n",
    "    plt.plot(xi, yi, color='blue', linestyle='None', marker='o')\n",
    "    plt.plot(ls, f(ls))\n",
    "    plt.show()\n",
    "\n",
    "plot_data(xi, yi)\n",
    "plt.show()"
   ]
  }
 ],
 "metadata": {
  "kernelspec": {
   "display_name": "Python 3",
   "language": "python",
   "name": "python3"
  },
  "language_info": {
   "codemirror_mode": {
    "name": "ipython",
    "version": 3
   },
   "file_extension": ".py",
   "mimetype": "text/x-python",
   "name": "python",
   "nbconvert_exporter": "python",
   "pygments_lexer": "ipython3",
   "version": "3.6.5"
  }
 },
 "nbformat": 4,
 "nbformat_minor": 2
}
